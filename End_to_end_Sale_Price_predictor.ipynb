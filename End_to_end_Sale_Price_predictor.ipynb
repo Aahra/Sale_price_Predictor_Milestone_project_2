{
  "nbformat": 4,
  "nbformat_minor": 0,
  "metadata": {
    "colab": {
      "name": "End_to_end_Sale_Price_predictor.ipynb",
      "provenance": [],
      "authorship_tag": "ABX9TyMs4dKDzzoiq3hEcmx+Rr88",
      "include_colab_link": true
    },
    "kernelspec": {
      "name": "python3",
      "display_name": "Python 3"
    },
    "language_info": {
      "name": "python"
    }
  },
  "cells": [
    {
      "cell_type": "markdown",
      "metadata": {
        "id": "view-in-github",
        "colab_type": "text"
      },
      "source": [
        "<a href=\"https://colab.research.google.com/github/Aahra/Sale_price_Predictor_Milestone_project_2/blob/main/End_to_end_Sale_Price_predictor.ipynb\" target=\"_parent\"><img src=\"https://colab.research.google.com/assets/colab-badge.svg\" alt=\"Open In Colab\"/></a>"
      ]
    },
    {
      "cell_type": "markdown",
      "metadata": {
        "id": "j239st9Wau89"
      },
      "source": [
        "#<b>Predicting the Sale price  of Bulldozers using Machine  learning\n",
        "\n",
        "In this notebook we are going thru an ex of  Machine learning project with a goal to predicting  the sale price  of Bulldozers.\n",
        "\n",
        "Since we're trying to predict a number, this kind of problem is known as a regression problem.\n",
        "\n",
        "The data and evaluation metric we'll be using (root mean square log error or RMSLE) is from the Kaggle Bluebook for Bulldozers competition.\n",
        "\n",
        "The techniques used in here have been inspired and adapted from the fast.ai machine learning course.\n",
        "\n",
        "What we'll end up with Since we already have a dataset, we'll approach the problem with the following machine learning modelling framework.\n",
        "\n",
        "6 Step Machine Learning Modelling Framework (read more) To work through these topics, we'll use pandas, Matplotlib and NumPy for data anaylsis, as well as, Scikit-Learn for machine learning and modelling tasks.\n",
        "\n",
        "Tools which can be used for each step of the machine learning modelling process. We'll work through each step and by the end of the notebook, we'll have a trained machine learning model which predicts the sale price of a bulldozer given different characteristics about it.\n",
        "\n",
        "## 1. Problem definition\n",
        "\n",
        "How  well can we predict  the future sale price of a bulldozer ,given its characteristics and previous ex of much similar bulldozers have  been sold for.\n",
        "\n",
        "## 2. Data\n",
        "Data is downloaded froM Kaggle - \n",
        " \n",
        " https://www.kaggle.com/c/bluebook-for-bulldozers/data\n",
        "\n",
        " The data for this competition is split into three parts:\n",
        "\n",
        "    Train.csv is the training set, which contains data through the end of 2011.\n",
        "    Valid.csv is the validation set, which contains data from January 1, 2012 - April 30, 2012 You make predictions on this set throughout the majority of the competition. Your score on this set is used to create the public leaderboard.\n",
        "    Test.csv is the test set, which won't be released until the last week of the competition. It contains data from May 1, 2012 - November 2012. Your score on the test set determines your final rank for the competition.\n",
        "\n",
        "\n",
        "## 3.Evaluation\n",
        "The evaluation metric for this competition is the RMSLE(root mean square log error) between the actual and predicted auction prices.\n",
        "\n",
        "The goal for most regression evaluation metrics is to minimize  the error.\n",
        "To build a machine learning  model which minimises RMSLE.\n",
        "\n",
        "## 4. Features\n",
        "\n",
        "Kaggle  provides the dat dictionary detailing on the  features of the dataset.\n"
      ]
    },
    {
      "cell_type": "code",
      "metadata": {
        "id": "JB0Y2-Hmxm2s"
      },
      "source": [
        "import numpy as np\n",
        "import pandas as pd\n",
        "import matplotlib.pyplot as plt\n",
        "import sklearn"
      ],
      "execution_count": null,
      "outputs": []
    },
    {
      "cell_type": "code",
      "metadata": {
        "id": "ePqY6zyNx0BR"
      },
      "source": [
        "# Import training and validation sets\n",
        "\n",
        "# For importing  and reading  the files ,you can  either  read from the raw version on github or upload  it  (every time) on google  colab  and  copy the  path\n",
        "\n",
        "df = pd.read_csv(\"/TrainAndValid.csv\", low_memory= False)"
      ],
      "execution_count": null,
      "outputs": []
    },
    {
      "cell_type": "code",
      "metadata": {
        "colab": {
          "base_uri": "https://localhost:8080/"
        },
        "id": "I2HnRNXU0G2S",
        "outputId": "dfc5aea3-16fc-4a94-abbb-46ac233e79d1"
      },
      "source": [
        "df.info()"
      ],
      "execution_count": null,
      "outputs": [
        {
          "output_type": "stream",
          "name": "stdout",
          "text": [
            "<class 'pandas.core.frame.DataFrame'>\n",
            "RangeIndex: 21269 entries, 0 to 21268\n",
            "Data columns (total 53 columns):\n",
            " #   Column                    Non-Null Count  Dtype \n",
            "---  ------                    --------------  ----- \n",
            " 0   SalesID                   21269 non-null  int64 \n",
            " 1   SalePrice                 21269 non-null  int64 \n",
            " 2   MachineID                 21269 non-null  int64 \n",
            " 3   ModelID                   21269 non-null  int64 \n",
            " 4   datasource                21269 non-null  int64 \n",
            " 5   auctioneerID              21269 non-null  int64 \n",
            " 6   YearMade                  21269 non-null  int64 \n",
            " 7   MachineHoursCurrentMeter  21269 non-null  int64 \n",
            " 8   UsageBand                 18672 non-null  object\n",
            " 9   saledate                  21269 non-null  object\n",
            " 10  fiModelDesc               21269 non-null  object\n",
            " 11  fiBaseModel               21269 non-null  object\n",
            " 12  fiSecondaryDesc           14144 non-null  object\n",
            " 13  fiModelSeries             3431 non-null   object\n",
            " 14  fiModelDescriptor         5403 non-null   object\n",
            " 15  ProductSize               10547 non-null  object\n",
            " 16  fiProductClassDesc        21269 non-null  object\n",
            " 17  state                     21269 non-null  object\n",
            " 18  ProductGroup              21269 non-null  object\n",
            " 19  ProductGroupDesc          21269 non-null  object\n",
            " 20  Drive_System              4665 non-null   object\n",
            " 21  Enclosure                 21255 non-null  object\n",
            " 22  Forks                     10393 non-null  object\n",
            " 23  Pad_Type                  3391 non-null   object\n",
            " 24  Ride_Control              6992 non-null   object\n",
            " 25  Stick                     3391 non-null   object\n",
            " 26  Transmission              8247 non-null   object\n",
            " 27  Turbocharged              3391 non-null   object\n",
            " 28  Blade_Extension           1271 non-null   object\n",
            " 29  Blade_Width               1271 non-null   object\n",
            " 30  Enclosure_Type            1271 non-null   object\n",
            " 31  Engine_Horsepower         1271 non-null   object\n",
            " 32  Hydraulics                17828 non-null  object\n",
            " 33  Pushblock                 1271 non-null   object\n",
            " 34  Ripper                    4851 non-null   object\n",
            " 35  Scarifier                 1271 non-null   object\n",
            " 36  Tip_Control               1271 non-null   object\n",
            " 37  Tire_Size                 4868 non-null   object\n",
            " 38  Coupler                   12894 non-null  object\n",
            " 39  Coupler_System            3410 non-null   object\n",
            " 40  Grouser_Tracks            3394 non-null   object\n",
            " 41  Hydraulics_Flow           3394 non-null   object\n",
            " 42  Track_Type                5829 non-null   object\n",
            " 43  Undercarriage_Pad_Width   5849 non-null   object\n",
            " 44  Stick_Length              5830 non-null   object\n",
            " 45  Thumb                     5833 non-null   object\n",
            " 46  Pattern_Changer           5830 non-null   object\n",
            " 47  Grouser_Type              5829 non-null   object\n",
            " 48  Backhoe_Mounting          3574 non-null   object\n",
            " 49  Blade_Type                3617 non-null   object\n",
            " 50  Travel_Controls           3616 non-null   object\n",
            " 51  Differential_Type         3596 non-null   object\n",
            " 52  Steering_Controls         3595 non-null   object\n",
            "dtypes: int64(8), object(45)\n",
            "memory usage: 8.6+ MB\n"
          ]
        }
      ]
    },
    {
      "cell_type": "code",
      "metadata": {
        "colab": {
          "base_uri": "https://localhost:8080/"
        },
        "id": "DarXeVRP0fpb",
        "outputId": "4d526bf3-1680-4f83-a4ee-b98785d793be"
      },
      "source": [
        "df.isna().sum()"
      ],
      "execution_count": null,
      "outputs": [
        {
          "output_type": "execute_result",
          "data": {
            "text/plain": [
              "SalesID                         0\n",
              "SalePrice                       0\n",
              "MachineID                       0\n",
              "ModelID                         0\n",
              "datasource                      0\n",
              "auctioneerID                    0\n",
              "YearMade                        0\n",
              "MachineHoursCurrentMeter        0\n",
              "UsageBand                    2597\n",
              "saledate                        0\n",
              "fiModelDesc                     0\n",
              "fiBaseModel                     0\n",
              "fiSecondaryDesc              7125\n",
              "fiModelSeries               17838\n",
              "fiModelDescriptor           15866\n",
              "ProductSize                 10722\n",
              "fiProductClassDesc              0\n",
              "state                           0\n",
              "ProductGroup                    0\n",
              "ProductGroupDesc                0\n",
              "Drive_System                16604\n",
              "Enclosure                      14\n",
              "Forks                       10876\n",
              "Pad_Type                    17878\n",
              "Ride_Control                14277\n",
              "Stick                       17878\n",
              "Transmission                13022\n",
              "Turbocharged                17878\n",
              "Blade_Extension             19998\n",
              "Blade_Width                 19998\n",
              "Enclosure_Type              19998\n",
              "Engine_Horsepower           19998\n",
              "Hydraulics                   3441\n",
              "Pushblock                   19998\n",
              "Ripper                      16418\n",
              "Scarifier                   19998\n",
              "Tip_Control                 19998\n",
              "Tire_Size                   16401\n",
              "Coupler                      8375\n",
              "Coupler_System              17859\n",
              "Grouser_Tracks              17875\n",
              "Hydraulics_Flow             17875\n",
              "Track_Type                  15440\n",
              "Undercarriage_Pad_Width     15420\n",
              "Stick_Length                15439\n",
              "Thumb                       15436\n",
              "Pattern_Changer             15439\n",
              "Grouser_Type                15440\n",
              "Backhoe_Mounting            17695\n",
              "Blade_Type                  17652\n",
              "Travel_Controls             17653\n",
              "Differential_Type           17673\n",
              "Steering_Controls           17674\n",
              "dtype: int64"
            ]
          },
          "metadata": {},
          "execution_count": 4
        }
      ]
    },
    {
      "cell_type": "code",
      "metadata": {
        "colab": {
          "base_uri": "https://localhost:8080/",
          "height": 265
        },
        "id": "3Ef12HQj1B9n",
        "outputId": "206cd1ab-6b84-46ad-e54d-99e67159e316"
      },
      "source": [
        "fig,ax=plt.subplots()\n",
        "ax.scatter(df[\"saledate\"][:1000],df[\"SalePrice\"][:1000]);"
      ],
      "execution_count": null,
      "outputs": [
        {
          "output_type": "display_data",
          "data": {
            "image/png": "[encoded data removed]",
            "text/plain": [
              "<Figure size 432x288 with 1 Axes>"
            ]
          },
          "metadata": {
            "needs_background": "light"
          }
        }
      ]
    },
    {
      "cell_type": "code",
      "metadata": {
        "colab": {
          "base_uri": "https://localhost:8080/"
        },
        "id": "U63_YWzI1nWy",
        "outputId": "0a9530aa-3c42-4572-876e-753d979df4a4"
      },
      "source": [
        "df.columns"
      ],
      "execution_count": null,
      "outputs": [
        {
          "output_type": "execute_result",
          "data": {
            "text/plain": [
              "Index(['SalesID', 'SalePrice', 'MachineID', 'ModelID', 'datasource',\n",
              "       'auctioneerID', 'YearMade', 'MachineHoursCurrentMeter', 'UsageBand',\n",
              "       'saledate', 'fiModelDesc', 'fiBaseModel', 'fiSecondaryDesc',\n",
              "       'fiModelSeries', 'fiModelDescriptor', 'ProductSize',\n",
              "       'fiProductClassDesc', 'state', 'ProductGroup', 'ProductGroupDesc',\n",
              "       'Drive_System', 'Enclosure', 'Forks', 'Pad_Type', 'Ride_Control',\n",
              "       'Stick', 'Transmission', 'Turbocharged', 'Blade_Extension',\n",
              "       'Blade_Width', 'Enclosure_Type', 'Engine_Horsepower', 'Hydraulics',\n",
              "       'Pushblock', 'Ripper', 'Scarifier', 'Tip_Control', 'Tire_Size',\n",
              "       'Coupler', 'Coupler_System', 'Grouser_Tracks', 'Hydraulics_Flow',\n",
              "       'Track_Type', 'Undercarriage_Pad_Width', 'Stick_Length', 'Thumb',\n",
              "       'Pattern_Changer', 'Grouser_Type', 'Backhoe_Mounting', 'Blade_Type',\n",
              "       'Travel_Controls', 'Differential_Type', 'Steering_Controls'],\n",
              "      dtype='object')"
            ]
          },
          "metadata": {},
          "execution_count": 6
        }
      ]
    },
    {
      "cell_type": "code",
      "metadata": {
        "colab": {
          "base_uri": "https://localhost:8080/",
          "height": 283
        },
        "id": "O2e7rs1V180V",
        "outputId": "c76ab62f-e0b3-4355-b66f-d6f12db9616e"
      },
      "source": [
        "df.SalePrice.plot.hist()"
      ],
      "execution_count": null,
      "outputs": [
        {
          "output_type": "execute_result",
          "data": {
            "text/plain": [
              "<matplotlib.axes._subplots.AxesSubplot at 0x7f29a25c5490>"
            ]
          },
          "metadata": {},
          "execution_count": 7
        },
        {
          "output_type": "display_data",
          "data": {
            "image/png": "[encoded data removed]",
            "text/plain": [
              "<Figure size 432x288 with 1 Axes>"
            ]
          },
          "metadata": {
            "needs_background": "light"
          }
        }
      ]
    },
    {
      "cell_type": "markdown",
      "metadata": {
        "id": "578SZnEW2K-i"
      },
      "source": [
        "###Parsing dates\n",
        "\n",
        "When we work with time series data ,we want to enrich the time and date component as much as possible ,\n",
        "\n",
        "We can do that by telling pandas which all of our columns has  dates in it using  'parse date' parameter.\n"
      ]
    },
    {
      "cell_type": "code",
      "metadata": {
        "id": "YrlGW5Yr2gBW"
      },
      "source": [
        "# Import data again but this  time  parse date\n",
        "df = pd.read_csv(\"/TrainAndValid.csv\", low_memory= False,parse_dates=[\"saledate\"])"
      ],
      "execution_count": null,
      "outputs": []
    },
    {
      "cell_type": "code",
      "metadata": {
        "colab": {
          "base_uri": "https://localhost:8080/"
        },
        "id": "RWomR_8t3GAc",
        "outputId": "e9ca3100-82bb-4efd-ca04-0fa7aca77167"
      },
      "source": [
        "df.saledate[:5]"
      ],
      "execution_count": null,
      "outputs": [
        {
          "output_type": "execute_result",
          "data": {
            "text/plain": [
              "0   2006-11-16\n",
              "1   2004-03-26\n",
              "2   2004-02-26\n",
              "3   2011-05-19\n",
              "4   2009-07-23\n",
              "Name: saledate, dtype: datetime64[ns]"
            ]
          },
          "metadata": {},
          "execution_count": 9
        }
      ]
    },
    {
      "cell_type": "code",
      "metadata": {
        "colab": {
          "base_uri": "https://localhost:8080/",
          "height": 283
        },
        "id": "_rhIrg8k3XOb",
        "outputId": "5aefe9d4-6e76-4d10-a105-8bdc3b6e971f"
      },
      "source": [
        "fig,ax=plt.subplots()\n",
        "ax.scatter(df[\"saledate\"][:1000],df[\"SalePrice\"][:1000])"
      ],
      "execution_count": null,
      "outputs": [
        {
          "output_type": "execute_result",
          "data": {
            "text/plain": [
              "<matplotlib.collections.PathCollection at 0x7f299e04e390>"
            ]
          },
          "metadata": {},
          "execution_count": 10
        },
        {
          "output_type": "display_data",
          "data": {
            "image/png": "[encoded data removed]",
            "text/plain": [
              "<Figure size 432x288 with 1 Axes>"
            ]
          },
          "metadata": {
            "needs_background": "light"
          }
        }
      ]
    },
    {
      "cell_type": "code",
      "metadata": {
        "colab": {
          "base_uri": "https://localhost:8080/",
          "height": 1000
        },
        "id": "QgITA0FcXt-3",
        "outputId": "982c022f-7450-444f-d154-37d2e87a868f"
      },
      "source": [
        "df.head(5).T"
      ],
      "execution_count": null,
      "outputs": [
        {
          "output_type": "execute_result",
          "data": {
            "text/html": [
              "<div>\n",
              "<style scoped>\n",
              "    .dataframe tbody tr th:only-of-type {\n",
              "        vertical-align: middle;\n",
              "    }\n",
              "\n",
              "    .dataframe tbody tr th {\n",
              "        vertical-align: top;\n",
              "    }\n",
              "\n",
              "    .dataframe thead th {\n",
              "        text-align: right;\n",
              "    }\n",
              "</style>\n",
              "<table border=\"1\" class=\"dataframe\">\n",
              "  <thead>\n",
              "    <tr style=\"text-align: right;\">\n",
              "      <th></th>\n",
              "      <th>0</th>\n",
              "      <th>1</th>\n",
              "      <th>2</th>\n",
              "      <th>3</th>\n",
              "      <th>4</th>\n",
              "    </tr>\n",
              "  </thead>\n",
              "  <tbody>\n",
              "    <tr>\n",
              "      <th>SalesID</th>\n",
              "      <td>1139246</td>\n",
              "      <td>1139248</td>\n",
              "      <td>1139249</td>\n",
              "      <td>1139251</td>\n",
              "      <td>1139253</td>\n",
              "    </tr>\n",
              "    <tr>\n",
              "      <th>SalePrice</th>\n",
              "      <td>66000</td>\n",
              "      <td>57000</td>\n",
              "      <td>10000</td>\n",
              "      <td>38500</td>\n",
              "      <td>11000</td>\n",
              "    </tr>\n",
              "    <tr>\n",
              "      <th>MachineID</th>\n",
              "      <td>999089</td>\n",
              "      <td>117657</td>\n",
              "      <td>434808</td>\n",
              "      <td>1026470</td>\n",
              "      <td>1057373</td>\n",
              "    </tr>\n",
              "    <tr>\n",
              "      <th>ModelID</th>\n",
              "      <td>3157</td>\n",
              "      <td>77</td>\n",
              "      <td>7009</td>\n",
              "      <td>332</td>\n",
              "      <td>17311</td>\n",
              "    </tr>\n",
              "    <tr>\n",
              "      <th>datasource</th>\n",
              "      <td>121</td>\n",
              "      <td>121</td>\n",
              "      <td>121</td>\n",
              "      <td>121</td>\n",
              "      <td>121</td>\n",
              "    </tr>\n",
              "    <tr>\n",
              "      <th>auctioneerID</th>\n",
              "      <td>3</td>\n",
              "      <td>3</td>\n",
              "      <td>3</td>\n",
              "      <td>3</td>\n",
              "      <td>3</td>\n",
              "    </tr>\n",
              "    <tr>\n",
              "      <th>YearMade</th>\n",
              "      <td>2004</td>\n",
              "      <td>1996</td>\n",
              "      <td>2001</td>\n",
              "      <td>2001</td>\n",
              "      <td>2007</td>\n",
              "    </tr>\n",
              "    <tr>\n",
              "      <th>MachineHoursCurrentMeter</th>\n",
              "      <td>68</td>\n",
              "      <td>4640</td>\n",
              "      <td>2838</td>\n",
              "      <td>3486</td>\n",
              "      <td>722</td>\n",
              "    </tr>\n",
              "    <tr>\n",
              "      <th>UsageBand</th>\n",
              "      <td>Low</td>\n",
              "      <td>Low</td>\n",
              "      <td>High</td>\n",
              "      <td>High</td>\n",
              "      <td>Medium</td>\n",
              "    </tr>\n",
              "    <tr>\n",
              "      <th>saledate</th>\n",
              "      <td>2006-11-16 00:00:00</td>\n",
              "      <td>2004-03-26 00:00:00</td>\n",
              "      <td>2004-02-26 00:00:00</td>\n",
              "      <td>2011-05-19 00:00:00</td>\n",
              "      <td>2009-07-23 00:00:00</td>\n",
              "    </tr>\n",
              "    <tr>\n",
              "      <th>fiModelDesc</th>\n",
              "      <td>521D</td>\n",
              "      <td>950FII</td>\n",
              "      <td>226</td>\n",
              "      <td>PC120-6E</td>\n",
              "      <td>S175</td>\n",
              "    </tr>\n",
              "    <tr>\n",
              "      <th>fiBaseModel</th>\n",
              "      <td>521</td>\n",
              "      <td>950</td>\n",
              "      <td>226</td>\n",
              "      <td>PC120</td>\n",
              "      <td>S175</td>\n",
              "    </tr>\n",
              "    <tr>\n",
              "      <th>fiSecondaryDesc</th>\n",
              "      <td>D</td>\n",
              "      <td>F</td>\n",
              "      <td>NaN</td>\n",
              "      <td>NaN</td>\n",
              "      <td>NaN</td>\n",
              "    </tr>\n",
              "    <tr>\n",
              "      <th>fiModelSeries</th>\n",
              "      <td>NaN</td>\n",
              "      <td>II</td>\n",
              "      <td>NaN</td>\n",
              "      <td>-6E</td>\n",
              "      <td>NaN</td>\n",
              "    </tr>\n",
              "    <tr>\n",
              "      <th>fiModelDescriptor</th>\n",
              "      <td>NaN</td>\n",
              "      <td>NaN</td>\n",
              "      <td>NaN</td>\n",
              "      <td>NaN</td>\n",
              "      <td>NaN</td>\n",
              "    </tr>\n",
              "    <tr>\n",
              "      <th>ProductSize</th>\n",
              "      <td>NaN</td>\n",
              "      <td>Medium</td>\n",
              "      <td>NaN</td>\n",
              "      <td>Small</td>\n",
              "      <td>NaN</td>\n",
              "    </tr>\n",
              "    <tr>\n",
              "      <th>fiProductClassDesc</th>\n",
              "      <td>Wheel Loader - 110.0 to 120.0 Horsepower</td>\n",
              "      <td>Wheel Loader - 150.0 to 175.0 Horsepower</td>\n",
              "      <td>Skid Steer Loader - 1351.0 to 1601.0 Lb Operat...</td>\n",
              "      <td>Hydraulic Excavator, Track - 12.0 to 14.0 Metr...</td>\n",
              "      <td>Skid Steer Loader - 1601.0 to 1751.0 Lb Operat...</td>\n",
              "    </tr>\n",
              "    <tr>\n",
              "      <th>state</th>\n",
              "      <td>Alabama</td>\n",
              "      <td>North Carolina</td>\n",
              "      <td>New York</td>\n",
              "      <td>Texas</td>\n",
              "      <td>New York</td>\n",
              "    </tr>\n",
              "    <tr>\n",
              "      <th>ProductGroup</th>\n",
              "      <td>WL</td>\n",
              "      <td>WL</td>\n",
              "      <td>SSL</td>\n",
              "      <td>TEX</td>\n",
              "      <td>SSL</td>\n",
              "    </tr>\n",
              "    <tr>\n",
              "      <th>ProductGroupDesc</th>\n",
              "      <td>Wheel Loader</td>\n",
              "      <td>Wheel Loader</td>\n",
              "      <td>Skid Steer Loaders</td>\n",
              "      <td>Track Excavators</td>\n",
              "      <td>Skid Steer Loaders</td>\n",
              "    </tr>\n",
              "    <tr>\n",
              "      <th>Drive_System</th>\n",
              "      <td>NaN</td>\n",
              "      <td>NaN</td>\n",
              "      <td>NaN</td>\n",
              "      <td>NaN</td>\n",
              "      <td>NaN</td>\n",
              "    </tr>\n",
              "    <tr>\n",
              "      <th>Enclosure</th>\n",
              "      <td>EROPS w AC</td>\n",
              "      <td>EROPS w AC</td>\n",
              "      <td>OROPS</td>\n",
              "      <td>EROPS w AC</td>\n",
              "      <td>EROPS</td>\n",
              "    </tr>\n",
              "    <tr>\n",
              "      <th>Forks</th>\n",
              "      <td>None or Unspecified</td>\n",
              "      <td>None or Unspecified</td>\n",
              "      <td>None or Unspecified</td>\n",
              "      <td>NaN</td>\n",
              "      <td>None or Unspecified</td>\n",
              "    </tr>\n",
              "    <tr>\n",
              "      <th>Pad_Type</th>\n",
              "      <td>NaN</td>\n",
              "      <td>NaN</td>\n",
              "      <td>NaN</td>\n",
              "      <td>NaN</td>\n",
              "      <td>NaN</td>\n",
              "    </tr>\n",
              "    <tr>\n",
              "      <th>Ride_Control</th>\n",
              "      <td>None or Unspecified</td>\n",
              "      <td>None or Unspecified</td>\n",
              "      <td>NaN</td>\n",
              "      <td>NaN</td>\n",
              "      <td>NaN</td>\n",
              "    </tr>\n",
              "    <tr>\n",
              "      <th>Stick</th>\n",
              "      <td>NaN</td>\n",
              "      <td>NaN</td>\n",
              "      <td>NaN</td>\n",
              "      <td>NaN</td>\n",
              "      <td>NaN</td>\n",
              "    </tr>\n",
              "    <tr>\n",
              "      <th>Transmission</th>\n",
              "      <td>NaN</td>\n",
              "      <td>NaN</td>\n",
              "      <td>NaN</td>\n",
              "      <td>NaN</td>\n",
              "      <td>NaN</td>\n",
              "    </tr>\n",
              "    <tr>\n",
              "      <th>Turbocharged</th>\n",
              "      <td>NaN</td>\n",
              "      <td>NaN</td>\n",
              "      <td>NaN</td>\n",
              "      <td>NaN</td>\n",
              "      <td>NaN</td>\n",
              "    </tr>\n",
              "    <tr>\n",
              "      <th>Blade_Extension</th>\n",
              "      <td>NaN</td>\n",
              "      <td>NaN</td>\n",
              "      <td>NaN</td>\n",
              "      <td>NaN</td>\n",
              "      <td>NaN</td>\n",
              "    </tr>\n",
              "    <tr>\n",
              "      <th>Blade_Width</th>\n",
              "      <td>NaN</td>\n",
              "      <td>NaN</td>\n",
              "      <td>NaN</td>\n",
              "      <td>NaN</td>\n",
              "      <td>NaN</td>\n",
              "    </tr>\n",
              "    <tr>\n",
              "      <th>Enclosure_Type</th>\n",
              "      <td>NaN</td>\n",
              "      <td>NaN</td>\n",
              "      <td>NaN</td>\n",
              "      <td>NaN</td>\n",
              "      <td>NaN</td>\n",
              "    </tr>\n",
              "    <tr>\n",
              "      <th>Engine_Horsepower</th>\n",
              "      <td>NaN</td>\n",
              "      <td>NaN</td>\n",
              "      <td>NaN</td>\n",
              "      <td>NaN</td>\n",
              "      <td>NaN</td>\n",
              "    </tr>\n",
              "    <tr>\n",
              "      <th>Hydraulics</th>\n",
              "      <td>2 Valve</td>\n",
              "      <td>2 Valve</td>\n",
              "      <td>Auxiliary</td>\n",
              "      <td>2 Valve</td>\n",
              "      <td>Auxiliary</td>\n",
              "    </tr>\n",
              "    <tr>\n",
              "      <th>Pushblock</th>\n",
              "      <td>NaN</td>\n",
              "      <td>NaN</td>\n",
              "      <td>NaN</td>\n",
              "      <td>NaN</td>\n",
              "      <td>NaN</td>\n",
              "    </tr>\n",
              "    <tr>\n",
              "      <th>Ripper</th>\n",
              "      <td>NaN</td>\n",
              "      <td>NaN</td>\n",
              "      <td>NaN</td>\n",
              "      <td>NaN</td>\n",
              "      <td>NaN</td>\n",
              "    </tr>\n",
              "    <tr>\n",
              "      <th>Scarifier</th>\n",
              "      <td>NaN</td>\n",
              "      <td>NaN</td>\n",
              "      <td>NaN</td>\n",
              "      <td>NaN</td>\n",
              "      <td>NaN</td>\n",
              "    </tr>\n",
              "    <tr>\n",
              "      <th>Tip_Control</th>\n",
              "      <td>NaN</td>\n",
              "      <td>NaN</td>\n",
              "      <td>NaN</td>\n",
              "      <td>NaN</td>\n",
              "      <td>NaN</td>\n",
              "    </tr>\n",
              "    <tr>\n",
              "      <th>Tire_Size</th>\n",
              "      <td>None or Unspecified</td>\n",
              "      <td>23.5</td>\n",
              "      <td>NaN</td>\n",
              "      <td>NaN</td>\n",
              "      <td>NaN</td>\n",
              "    </tr>\n",
              "    <tr>\n",
              "      <th>Coupler</th>\n",
              "      <td>None or Unspecified</td>\n",
              "      <td>None or Unspecified</td>\n",
              "      <td>None or Unspecified</td>\n",
              "      <td>None or Unspecified</td>\n",
              "      <td>None or Unspecified</td>\n",
              "    </tr>\n",
              "    <tr>\n",
              "      <th>Coupler_System</th>\n",
              "      <td>NaN</td>\n",
              "      <td>NaN</td>\n",
              "      <td>None or Unspecified</td>\n",
              "      <td>NaN</td>\n",
              "      <td>None or Unspecified</td>\n",
              "    </tr>\n",
              "    <tr>\n",
              "      <th>Grouser_Tracks</th>\n",
              "      <td>NaN</td>\n",
              "      <td>NaN</td>\n",
              "      <td>None or Unspecified</td>\n",
              "      <td>NaN</td>\n",
              "      <td>None or Unspecified</td>\n",
              "    </tr>\n",
              "    <tr>\n",
              "      <th>Hydraulics_Flow</th>\n",
              "      <td>NaN</td>\n",
              "      <td>NaN</td>\n",
              "      <td>Standard</td>\n",
              "      <td>NaN</td>\n",
              "      <td>Standard</td>\n",
              "    </tr>\n",
              "    <tr>\n",
              "      <th>Track_Type</th>\n",
              "      <td>NaN</td>\n",
              "      <td>NaN</td>\n",
              "      <td>NaN</td>\n",
              "      <td>NaN</td>\n",
              "      <td>NaN</td>\n",
              "    </tr>\n",
              "    <tr>\n",
              "      <th>Undercarriage_Pad_Width</th>\n",
              "      <td>NaN</td>\n",
              "      <td>NaN</td>\n",
              "      <td>NaN</td>\n",
              "      <td>NaN</td>\n",
              "      <td>NaN</td>\n",
              "    </tr>\n",
              "    <tr>\n",
              "      <th>Stick_Length</th>\n",
              "      <td>NaN</td>\n",
              "      <td>NaN</td>\n",
              "      <td>NaN</td>\n",
              "      <td>NaN</td>\n",
              "      <td>NaN</td>\n",
              "    </tr>\n",
              "    <tr>\n",
              "      <th>Thumb</th>\n",
              "      <td>NaN</td>\n",
              "      <td>NaN</td>\n",
              "      <td>NaN</td>\n",
              "      <td>NaN</td>\n",
              "      <td>NaN</td>\n",
              "    </tr>\n",
              "    <tr>\n",
              "      <th>Pattern_Changer</th>\n",
              "      <td>NaN</td>\n",
              "      <td>NaN</td>\n",
              "      <td>NaN</td>\n",
              "      <td>NaN</td>\n",
              "      <td>NaN</td>\n",
              "    </tr>\n",
              "    <tr>\n",
              "      <th>Grouser_Type</th>\n",
              "      <td>NaN</td>\n",
              "      <td>NaN</td>\n",
              "      <td>NaN</td>\n",
              "      <td>NaN</td>\n",
              "      <td>NaN</td>\n",
              "    </tr>\n",
              "    <tr>\n",
              "      <th>Backhoe_Mounting</th>\n",
              "      <td>NaN</td>\n",
              "      <td>NaN</td>\n",
              "      <td>NaN</td>\n",
              "      <td>NaN</td>\n",
              "      <td>NaN</td>\n",
              "    </tr>\n",
              "    <tr>\n",
              "      <th>Blade_Type</th>\n",
              "      <td>NaN</td>\n",
              "      <td>NaN</td>\n",
              "      <td>NaN</td>\n",
              "      <td>NaN</td>\n",
              "      <td>NaN</td>\n",
              "    </tr>\n",
              "    <tr>\n",
              "      <th>Travel_Controls</th>\n",
              "      <td>NaN</td>\n",
              "      <td>NaN</td>\n",
              "      <td>NaN</td>\n",
              "      <td>NaN</td>\n",
              "      <td>NaN</td>\n",
              "    </tr>\n",
              "    <tr>\n",
              "      <th>Differential_Type</th>\n",
              "      <td>Standard</td>\n",
              "      <td>Standard</td>\n",
              "      <td>NaN</td>\n",
              "      <td>NaN</td>\n",
              "      <td>NaN</td>\n",
              "    </tr>\n",
              "    <tr>\n",
              "      <th>Steering_Controls</th>\n",
              "      <td>Conventional</td>\n",
              "      <td>Conventional</td>\n",
              "      <td>NaN</td>\n",
              "      <td>NaN</td>\n",
              "      <td>NaN</td>\n",
              "    </tr>\n",
              "  </tbody>\n",
              "</table>\n",
              "</div>"
            ],
            "text/plain": [
              "                                                                 0  ...                                                  4\n",
              "SalesID                                                    1139246  ...                                            1139253\n",
              "SalePrice                                                    66000  ...                                              11000\n",
              "MachineID                                                   999089  ...                                            1057373\n",
              "ModelID                                                       3157  ...                                              17311\n",
              "datasource                                                     121  ...                                                121\n",
              "auctioneerID                                                     3  ...                                                  3\n",
              "YearMade                                                      2004  ...                                               2007\n",
              "MachineHoursCurrentMeter                                        68  ...                                                722\n",
              "UsageBand                                                      Low  ...                                             Medium\n",
              "saledate                                       2006-11-16 00:00:00  ...                                2009-07-23 00:00:00\n",
              "fiModelDesc                                                   521D  ...                                               S175\n",
              "fiBaseModel                                                    521  ...                                               S175\n",
              "fiSecondaryDesc                                                  D  ...                                                NaN\n",
              "fiModelSeries                                                  NaN  ...                                                NaN\n",
              "fiModelDescriptor                                              NaN  ...                                                NaN\n",
              "ProductSize                                                    NaN  ...                                                NaN\n",
              "fiProductClassDesc        Wheel Loader - 110.0 to 120.0 Horsepower  ...  Skid Steer Loader - 1601.0 to 1751.0 Lb Operat...\n",
              "state                                                      Alabama  ...                                           New York\n",
              "ProductGroup                                                    WL  ...                                                SSL\n",
              "ProductGroupDesc                                      Wheel Loader  ...                                 Skid Steer Loaders\n",
              "Drive_System                                                   NaN  ...                                                NaN\n",
              "Enclosure                                               EROPS w AC  ...                                              EROPS\n",
              "Forks                                          None or Unspecified  ...                                None or Unspecified\n",
              "Pad_Type                                                       NaN  ...                                                NaN\n",
              "Ride_Control                                   None or Unspecified  ...                                                NaN\n",
              "Stick                                                          NaN  ...                                                NaN\n",
              "Transmission                                                   NaN  ...                                                NaN\n",
              "Turbocharged                                                   NaN  ...                                                NaN\n",
              "Blade_Extension                                                NaN  ...                                                NaN\n",
              "Blade_Width                                                    NaN  ...                                                NaN\n",
              "Enclosure_Type                                                 NaN  ...                                                NaN\n",
              "Engine_Horsepower                                              NaN  ...                                                NaN\n",
              "Hydraulics                                                 2 Valve  ...                                          Auxiliary\n",
              "Pushblock                                                      NaN  ...                                                NaN\n",
              "Ripper                                                         NaN  ...                                                NaN\n",
              "Scarifier                                                      NaN  ...                                                NaN\n",
              "Tip_Control                                                    NaN  ...                                                NaN\n",
              "Tire_Size                                      None or Unspecified  ...                                                NaN\n",
              "Coupler                                        None or Unspecified  ...                                None or Unspecified\n",
              "Coupler_System                                                 NaN  ...                                None or Unspecified\n",
              "Grouser_Tracks                                                 NaN  ...                                None or Unspecified\n",
              "Hydraulics_Flow                                                NaN  ...                                           Standard\n",
              "Track_Type                                                     NaN  ...                                                NaN\n",
              "Undercarriage_Pad_Width                                        NaN  ...                                                NaN\n",
              "Stick_Length                                                   NaN  ...                                                NaN\n",
              "Thumb                                                          NaN  ...                                                NaN\n",
              "Pattern_Changer                                                NaN  ...                                                NaN\n",
              "Grouser_Type                                                   NaN  ...                                                NaN\n",
              "Backhoe_Mounting                                               NaN  ...                                                NaN\n",
              "Blade_Type                                                     NaN  ...                                                NaN\n",
              "Travel_Controls                                                NaN  ...                                                NaN\n",
              "Differential_Type                                         Standard  ...                                                NaN\n",
              "Steering_Controls                                     Conventional  ...                                                NaN\n",
              "\n",
              "[53 rows x 5 columns]"
            ]
          },
          "metadata": {},
          "execution_count": 12
        }
      ]
    },
    {
      "cell_type": "code",
      "metadata": {
        "colab": {
          "base_uri": "https://localhost:8080/"
        },
        "id": "vTl8G2iIYUgm",
        "outputId": "273e864c-bf63-4c81-e3e3-5f6b573db417"
      },
      "source": [
        "df.saledate.head(20)"
      ],
      "execution_count": null,
      "outputs": [
        {
          "output_type": "execute_result",
          "data": {
            "text/plain": [
              "0    2006-11-16\n",
              "1    2004-03-26\n",
              "2    2004-02-26\n",
              "3    2011-05-19\n",
              "4    2009-07-23\n",
              "5    2008-12-18\n",
              "6    2004-08-26\n",
              "7    2005-11-17\n",
              "8    2009-08-27\n",
              "9    2007-08-09\n",
              "10   2008-08-21\n",
              "11   2006-08-24\n",
              "12   2005-10-20\n",
              "13   2006-01-26\n",
              "14   2006-01-03\n",
              "15   2006-11-16\n",
              "16   2007-06-14\n",
              "17   2010-01-28\n",
              "18   2006-03-09\n",
              "19   2005-11-17\n",
              "Name: saledate, dtype: datetime64[ns]"
            ]
          },
          "metadata": {},
          "execution_count": 13
        }
      ]
    },
    {
      "cell_type": "code",
      "metadata": {
        "id": "-CgluqiYYcDI"
      },
      "source": [
        "##Sort DataFrame  by saledate\n",
        "\n",
        "#When  working with Timeseries  data,its prefferable to sort the data"
      ],
      "execution_count": null,
      "outputs": []
    },
    {
      "cell_type": "code",
      "metadata": {
        "colab": {
          "base_uri": "https://localhost:8080/"
        },
        "id": "6dm2UXFLYnx3",
        "outputId": "79c21d31-e40f-4c2a-fd8d-f390f015ad17"
      },
      "source": [
        "#Sort in date order\n",
        "\n",
        "df.sort_values(by=[\"saledate\"],inplace=True,ascending=True)\n",
        "df.saledate.head(20)"
      ],
      "execution_count": null,
      "outputs": [
        {
          "output_type": "execute_result",
          "data": {
            "text/plain": [
              "7648   2004-01-05\n",
              "8228   2004-01-09\n",
              "6770   2004-01-16\n",
              "4051   2004-01-19\n",
              "5086   2004-01-20\n",
              "243    2004-01-20\n",
              "4035   2004-01-27\n",
              "3282   2004-01-29\n",
              "3396   2004-01-29\n",
              "1130   2004-01-29\n",
              "8125   2004-01-29\n",
              "1367   2004-01-29\n",
              "3364   2004-01-29\n",
              "1142   2004-01-29\n",
              "1104   2004-01-29\n",
              "465    2004-01-29\n",
              "3111   2004-01-29\n",
              "2949   2004-01-29\n",
              "5147   2004-01-29\n",
              "3470   2004-01-29\n",
              "Name: saledate, dtype: datetime64[ns]"
            ]
          },
          "metadata": {},
          "execution_count": 16
        }
      ]
    },
    {
      "cell_type": "code",
      "metadata": {
        "id": "0A5Ib8-tYxIa"
      },
      "source": [
        "##Make  a copy of original dataset\n",
        "\n",
        "df_tmp=df.copy()"
      ],
      "execution_count": null,
      "outputs": []
    },
    {
      "cell_type": "code",
      "metadata": {
        "colab": {
          "base_uri": "https://localhost:8080/"
        },
        "id": "2xeubS47ZXdS",
        "outputId": "09d96d2e-b83c-461b-a1c1-10f0dda42e71"
      },
      "source": [
        "df.saledate.head(20)"
      ],
      "execution_count": null,
      "outputs": [
        {
          "output_type": "execute_result",
          "data": {
            "text/plain": [
              "7648   2004-01-05\n",
              "8228   2004-01-09\n",
              "6770   2004-01-16\n",
              "4051   2004-01-19\n",
              "5086   2004-01-20\n",
              "243    2004-01-20\n",
              "4035   2004-01-27\n",
              "3282   2004-01-29\n",
              "3396   2004-01-29\n",
              "1130   2004-01-29\n",
              "8125   2004-01-29\n",
              "1367   2004-01-29\n",
              "3364   2004-01-29\n",
              "1142   2004-01-29\n",
              "1104   2004-01-29\n",
              "465    2004-01-29\n",
              "3111   2004-01-29\n",
              "2949   2004-01-29\n",
              "5147   2004-01-29\n",
              "3470   2004-01-29\n",
              "Name: saledate, dtype: datetime64[ns]"
            ]
          },
          "metadata": {},
          "execution_count": 18
        }
      ]
    },
    {
      "cell_type": "code",
      "metadata": {
        "id": "00QtPBdrZdIn"
      },
      "source": [
        ""
      ],
      "execution_count": null,
      "outputs": []
    }
  ]
}